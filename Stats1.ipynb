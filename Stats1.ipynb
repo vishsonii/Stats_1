{
 "cells": [
  {
   "cell_type": "code",
   "execution_count": 4,
   "metadata": {},
   "outputs": [
    {
     "data": {
      "text/plain": [
       "367.9900360969936"
      ]
     },
     "execution_count": 4,
     "metadata": {},
     "output_type": "execute_result"
    }
   ],
   "source": [
    "import statistics as sts #Importing Statistics module\n",
    "given_data_list = [1550,1700,900,850,1000,950] #Creating list of the given data\n",
    "sts.stdev(given_data_list) #Calculating the standard deviation"
   ]
  },
  {
   "cell_type": "code",
   "execution_count": 5,
   "metadata": {},
   "outputs": [
    {
     "data": {
      "text/plain": [
       "6219.9"
      ]
     },
     "execution_count": 5,
     "metadata": {},
     "output_type": "execute_result"
    }
   ],
   "source": [
    "given_data_list = [3, 21, 98, 203, 17, 9] #Creating list of the given data\n",
    "sts.variance(given_data_list) #Calculating the variance"
   ]
  },
  {
   "cell_type": "code",
   "execution_count": 3,
   "metadata": {},
   "outputs": [
    {
     "data": {
      "text/plain": [
       "0    357.770876\n",
       "dtype: float64"
      ]
     },
     "metadata": {},
     "output_type": "display_data"
    }
   ],
   "source": [
    "display(df.std())"
   ]
  },
  {
   "cell_type": "code",
   "execution_count": 6,
   "metadata": {},
   "outputs": [
    {
     "name": "stdout",
     "output_type": "stream",
     "text": [
      "The probability distribution of the variable for number of subjects a student from the given class has failed in: \n",
      "X    0    1     2     3\n",
      "P(X)  0.8  0.1  0.07  0.03\n"
     ]
    }
   ],
   "source": [
    "import pandas as pd\n",
    "\n",
    "class_strength = 100 #Given class strength is 100\n",
    "passed_all_subjects = 80 #Given, 80 students passed in all subjects\n",
    "failed_one_subject = 10 #Given, 10 students failed in one subject\n",
    "failed_two_subjects = 7 #Given, 7 students failed in two subjects \n",
    "failed_three_subjects = 3 #Given, 3 students failed in three subjects\n",
    "\n",
    "prob_failing_zero_subject = float(passed_all_subjects)/class_strength #The probability of student failing in 0 subjects, P(X=0)\n",
    "prob_failing_one_subject = float(failed_one_subject)/class_strength #The probability of students failing in 1 subjects, P(X=1)\n",
    "prob_failing_two_subjects = float(failed_two_subjects)/class_strength #The probability of students failing in 2 subjects, P(X=2)\n",
    "prob_failing_three_subjects = float(failed_three_subjects)/class_strength #The probability of students failing in 3 subjects, P(X=3)\n",
    "\n",
    "print(\"The probability distribution of the variable for number of subjects a student from the given class has failed in: \")\n",
    "\n",
    "prob_distribution_data = {'X': ['P(X)'],\n",
    "                          '0': [prob_failing_zero_subject],\n",
    "                          '1': [prob_failing_one_subject],\n",
    "                          '2': [prob_failing_two_subjects],\n",
    "                          '3': [prob_failing_three_subjects]}\n",
    "\n",
    "df = pd.DataFrame(data=prob_distribution_data)\n",
    "print(df[pd.unique(['X'] + df.columns.values.tolist()).tolist()].to_string(index=False))"
   ]
  },
  {
   "cell_type": "code",
   "execution_count": null,
   "metadata": {},
   "outputs": [],
   "source": []
  }
 ],
 "metadata": {
  "kernelspec": {
   "display_name": "Python 3",
   "language": "python",
   "name": "python3"
  },
  "language_info": {
   "codemirror_mode": {
    "name": "ipython",
    "version": 3
   },
   "file_extension": ".py",
   "mimetype": "text/x-python",
   "name": "python",
   "nbconvert_exporter": "python",
   "pygments_lexer": "ipython3",
   "version": "3.6.4"
  }
 },
 "nbformat": 4,
 "nbformat_minor": 2
}
